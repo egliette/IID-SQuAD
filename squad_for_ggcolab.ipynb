{
  "cells": [
    {
      "cell_type": "code",
      "execution_count": 1,
      "metadata": {
        "id": "WT1LJgkPTcq4",
        "outputId": "2141f81c-52eb-4008-b74e-f777cd4ee64b",
        "colab": {
          "base_uri": "https://localhost:8080/"
        }
      },
      "outputs": [
        {
          "output_type": "stream",
          "name": "stdout",
          "text": [
            "Writing requirements.txt\n"
          ]
        }
      ],
      "source": [
        "%%writefile requirements.txt\n",
        "ujson\n",
        "numpy\n",
        "tensorboard==2.9\n",
        "tensorflow==2.9.1\n",
        "tensorboardX\n",
        "spacy==2.0.16\n",
        "protobuf==3.19\n",
        "tqdm\n",
        "urllib3\n",
        "torch"
      ]
    },
    {
      "cell_type": "code",
      "source": [],
      "metadata": {
        "id": "r_rADJUmTd_Q"
      },
      "execution_count": null,
      "outputs": []
    }
  ],
  "metadata": {
    "language_info": {
      "name": "python"
    },
    "orig_nbformat": 4,
    "colab": {
      "provenance": []
    },
    "kernelspec": {
      "name": "python3",
      "display_name": "Python 3"
    },
    "gpuClass": "standard"
  },
  "nbformat": 4,
  "nbformat_minor": 0
}