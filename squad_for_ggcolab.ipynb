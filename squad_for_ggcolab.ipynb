{
 "cells": [
  {
   "cell_type": "code",
   "execution_count": null,
   "metadata": {},
   "outputs": [],
   "source": [
    "%%writefile requirements.txt\n",
    "ujson\n",
    "numpy\n",
    "tensorboard==2.9\n",
    "tensorflow==2.9.1\n",
    "tensorboardX\n",
    "spacy==2.0.16\n",
    "protobuf==3.19\n",
    "tqdm\n",
    "urllib3\n",
    "torch"
   ]
  }
 ],
 "metadata": {
  "language_info": {
   "name": "python"
  },
  "orig_nbformat": 4
 },
 "nbformat": 4,
 "nbformat_minor": 2
}
